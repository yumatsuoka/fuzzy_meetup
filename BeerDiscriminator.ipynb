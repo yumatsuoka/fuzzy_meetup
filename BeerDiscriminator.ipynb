{
 "cells": [
  {
   "cell_type": "markdown",
   "metadata": {},
   "source": [
    "## ビールと疑似ビール(第2のビール，第3のビール)を見た目から識別するCNNのプログラム\n",
    "### sampleコードを少し改変したものとなっています．"
   ]
  },
  {
   "cell_type": "code",
   "execution_count": null,
   "metadata": {
    "collapsed": true
   },
   "outputs": [],
   "source": [
    "#!/usr/bin/env python\n",
    "# -*- coding: utf-8 -*-\n",
    "\n",
    "# python2, python3の互換性のためのおまじない\n",
    "from __future__ import print_function\n",
    "\n",
    "import six.moves.cPickle as pickle\n",
    "import numpy\n",
    "import tensorflow as tf\n",
    "\n",
    "# jupyterで画像を表示するためのおまじない\n",
    "%matplotlib inline\n",
    "import matplotlib.pyplot as plt"
   ]
  },
  {
   "cell_type": "markdown",
   "metadata": {},
   "source": [
    "### Hyper parameters"
   ]
  },
  {
   "cell_type": "code",
   "execution_count": null,
   "metadata": {
    "collapsed": true
   },
   "outputs": [],
   "source": [
    "IMAGE_SIZE = 32\n",
    "NUM_LABELS  =2\n",
    "BATCH_SIZE = 10\n",
    "NUM_CHANNELS = 3\n",
    "N_TRAIN = 500 #659\n",
    "train_size = N_TRAIN\n",
    "dataset_dir = './all_imgs_dic.pkl'"
   ]
  },
  {
   "cell_type": "markdown",
   "metadata": {},
   "source": [
    "### Load dataset and make target labels"
   ]
  },
  {
   "cell_type": "code",
   "execution_count": 58,
   "metadata": {
    "collapsed": false
   },
   "outputs": [
    {
     "name": "stdout",
     "output_type": "stream",
     "text": [
      "train_data:(500, 32, 32, 3), train_target:(500, 2), test_data:(159, 32, 32, 3), test_target:(159, 2)\n"
     ]
    }
   ],
   "source": [
    "dataset = label_data = pickle.load(open(dataset_dir))\n",
    "rdm = numpy.random.permutation(len(dataset['target']))\n",
    "\n",
    "train_data = dataset['data'][rdm][:N_TRAIN].astype(numpy.float32)\n",
    "train_target = dataset['target'][rdm][:N_TRAIN].astype(numpy.int32)\n",
    "train_labels = []\n",
    "\n",
    "for t in train_target:\n",
    "    tmp = [0, 0]\n",
    "    tmp[t] = 1\n",
    "    train_labels.append(tmp)\n",
    "train_labels = numpy.array(train_labels)\n",
    "\n",
    "test_data = dataset['data'][rdm][N_TRAIN:].astype(numpy.float32)\n",
    "test_target = dataset['target'][rdm][N_TRAIN:].astype(numpy.int32)\n",
    "test_labels = []\n",
    "\n",
    "for t in test_target:\n",
    "    tmp = [0, 0]\n",
    "    tmp[t] = 1\n",
    "    test_labels.append(tmp)\n",
    "test_labels = numpy.array(test_labels)\n",
    "\n",
    "print(\"train_data:{}, train_target:{}, test_data:{}, test_target:{}\".format(\n",
    "        train_data.shape, train_labels.shape, test_data.shape, test_labels.shape))"
   ]
  },
  {
   "cell_type": "code",
   "execution_count": 59,
   "metadata": {
    "ExecuteTime": {
     "end_time": "2016-09-16T14:49:28.803525",
     "start_time": "2016-09-16T14:49:23.875999"
    },
    "cellView": "both",
    "colab": {
     "autoexec": {
      "startup": false,
      "wait_interval": 0
     },
     "output_extras": [
      {
       "item_id": 1
      }
     ]
    },
    "colab_type": "code",
    "collapsed": false,
    "executionInfo": {
     "elapsed": 2081,
     "status": "ok",
     "timestamp": 1446749138298,
     "user": {
      "color": "#1FA15D",
      "displayName": "Michael Piatek",
      "isAnonymous": false,
      "isMe": true,
      "permissionId": "00327059602783983041",
      "photoUrl": "//lh6.googleusercontent.com/-wKJwK_OPl34/AAAAAAAAAAI/AAAAAAAAAlk/Rh3u6O2Z7ns/s50-c-k-no/photo.jpg",
      "sessionId": "716a6ad5e180d821",
      "userId": "106975671469698476657"
     },
     "user_tz": 480
    },
    "id": "Q1VfiAzjzuK8",
    "outputId": "f53a39c9-3a52-47ca-d7a3-9f9d84eccf63"
   },
   "outputs": [
    {
     "name": "stdout",
     "output_type": "stream",
     "text": [
      "Done\n"
     ]
    }
   ],
   "source": [
    "# We'll bundle groups of examples during training for efficiency.\n",
    "# This defines the size of the batch.\n",
    "# We have only one channel in our grayscale images.\n",
    "# The random seed that defines initialization.\n",
    "SEED = 42\n",
    "\n",
    "# This is where training samples and labels are fed to the graph.\n",
    "# These placeholder nodes will be fed a batch of training data at each\n",
    "# training step, which we'll write once we define the graph structure.\n",
    "train_data_node = tf.placeholder(\n",
    "  tf.float32,\n",
    "  shape=(BATCH_SIZE, IMAGE_SIZE, IMAGE_SIZE, NUM_CHANNELS))\n",
    "train_labels_node = tf.placeholder(tf.float32,\n",
    "                                   shape=(BATCH_SIZE, NUM_LABELS))\n",
    "\n",
    "# For the validation and test data, we'll just hold the entire dataset in\n",
    "# one constant node.\n",
    "#validation_data_node = tf.constant(validation_data)\n",
    "test_data_node = tf.constant(test_data)\n",
    "\n",
    "# The variables below hold all the trainable weights. For each, the\n",
    "# parameter defines how the variables will be initialized.\n",
    "conv1_weights = tf.Variable(\n",
    "  tf.truncated_normal([5, 5, NUM_CHANNELS, 16],  # 5x5 filter, depth 32.\n",
    "                      stddev=0.1,\n",
    "                      seed=SEED))\n",
    "conv1_biases = tf.Variable(tf.zeros([16]))\n",
    "conv2_weights = tf.Variable(\n",
    "  tf.truncated_normal([5, 5, 16, 32],\n",
    "                      stddev=0.1,\n",
    "                      seed=SEED))\n",
    "conv2_biases = tf.Variable(tf.constant(0.1, shape=[32]))\n",
    "conv3_weights = tf.Variable(\n",
    "  tf.truncated_normal([5, 5, 32, 64],\n",
    "                      stddev=0.1,\n",
    "                      seed=SEED))\n",
    "conv3_biases = tf.Variable(tf.constant(0.1, shape=[64]))\n",
    "\n",
    "fc_weights = tf.Variable(\n",
    "  tf.truncated_normal([IMAGE_SIZE // 8 * IMAGE_SIZE // 8 * 64, NUM_LABELS],\n",
    "                      stddev=0.1,\n",
    "                      seed=SEED))\n",
    "fc_biases = tf.Variable(tf.constant(0.1, shape=[NUM_LABELS]))\n",
    "\n",
    "#fc1_weights = tf.Variable(  # fully connected, depth 512.\n",
    "#  tf.truncated_normal([IMAGE_SIZE // 8 * IMAGE_SIZE // 8 * 64, 512],\n",
    "#                      stddev=0.1,\n",
    "#                      seed=SEED))\n",
    "#fc1_biases = tf.Variable(tf.constant(0.1, shape=[512]))\n",
    "#fc2_weights = tf.Variable(\n",
    "#  tf.truncated_normal([512, NUM_LABELS],\n",
    "#                      stddev=0.1,\n",
    "#                      seed=SEED))\n",
    "#fc2_biases = tf.Variable(tf.constant(0.1, shape=[NUM_LABELS]))\n",
    "\n",
    "print('Done')"
   ]
  },
  {
   "cell_type": "markdown",
   "metadata": {
    "colab_type": "text",
    "id": "QHB_u04Z4HO6"
   },
   "source": [
    "Now that we've defined the variables to be trained, we're ready to wire them together into a TensorFlow graph.\n",
    "\n",
    "We'll define a helper to do this, `model`, which will return copies of the graph suitable for training and testing. Note the `train` argument, which controls whether or not dropout is used in the hidden layer. (We want to use dropout only during training.)"
   ]
  },
  {
   "cell_type": "code",
   "execution_count": 60,
   "metadata": {
    "ExecuteTime": {
     "end_time": "2016-09-16T14:49:28.834326",
     "start_time": "2016-09-16T14:49:28.805723"
    },
    "cellView": "both",
    "colab": {
     "autoexec": {
      "startup": false,
      "wait_interval": 0
     },
     "output_extras": [
      {
       "item_id": 1
      }
     ]
    },
    "colab_type": "code",
    "collapsed": false,
    "executionInfo": {
     "elapsed": 772,
     "status": "ok",
     "timestamp": 1446749138306,
     "user": {
      "color": "#1FA15D",
      "displayName": "Michael Piatek",
      "isAnonymous": false,
      "isMe": true,
      "permissionId": "00327059602783983041",
      "photoUrl": "//lh6.googleusercontent.com/-wKJwK_OPl34/AAAAAAAAAAI/AAAAAAAAAlk/Rh3u6O2Z7ns/s50-c-k-no/photo.jpg",
      "sessionId": "716a6ad5e180d821",
      "userId": "106975671469698476657"
     },
     "user_tz": 480
    },
    "id": "V85_B9QF3uBp",
    "outputId": "457d3e49-73ad-4451-c196-421dd4681efc"
   },
   "outputs": [
    {
     "name": "stdout",
     "output_type": "stream",
     "text": [
      "Done\n"
     ]
    }
   ],
   "source": [
    "def model(data, train=False):\n",
    "    \"\"\"The Model definition.\"\"\"\n",
    "    # 2D convolution, with 'SAME' padding (i.e. the output feature map has\n",
    "    # the same size as the input). Note that {strides} is a 4D array whose\n",
    "    # shape matches the data layout: [image index, y, x, depth].\n",
    "    conv = tf.nn.conv2d(data,\n",
    "                        conv1_weights,\n",
    "                        strides=[1, 1, 1, 1],\n",
    "                        padding='SAME')\n",
    "\n",
    "    # Bias and rectified linear non-linearity.\n",
    "    relu = tf.nn.relu(tf.nn.bias_add(conv, conv1_biases))\n",
    "\n",
    "    # Max pooling. The kernel size spec ksize also follows the layout of\n",
    "    # the data. Here we have a pooling window of 2, and a stride of 2.\n",
    "    pool = tf.nn.max_pool(relu,\n",
    "                          ksize=[1, 2, 2, 1],\n",
    "                          strides=[1, 2, 2, 1],\n",
    "                          padding='SAME')\n",
    "    conv = tf.nn.conv2d(pool,\n",
    "                        conv2_weights,\n",
    "                        strides=[1, 1, 1, 1],\n",
    "                        padding='SAME')\n",
    "    relu = tf.nn.relu(tf.nn.bias_add(conv, conv2_biases))\n",
    "    pool = tf.nn.max_pool(relu,\n",
    "                          ksize=[1, 2, 2, 1],\n",
    "                          strides=[1, 2, 2, 1],\n",
    "                          padding='SAME')\n",
    "    conv = tf.nn.conv2d(pool,\n",
    "                        conv3_weights,\n",
    "                        strides=[1, 1, 1, 1],\n",
    "                        padding='SAME')\n",
    "    relu = tf.nn.relu(tf.nn.bias_add(conv, conv3_biases))\n",
    "    pool = tf.nn.max_pool(relu,\n",
    "                          ksize=[1, 2, 2, 1],\n",
    "                          strides=[1, 2, 2, 1],\n",
    "                          padding='SAME')\n",
    "\n",
    "    # Reshape the feature map cuboid into a 2D matrix to feed it to the\n",
    "    # fully connected layers.\n",
    "    pool_shape = pool.get_shape().as_list()\n",
    "    reshape = tf.reshape(\n",
    "        pool,\n",
    "        [pool_shape[0], pool_shape[1] * pool_shape[2] * pool_shape[3]])\n",
    "  \n",
    "    return tf.matmul(reshape, fc_weights) + fc_biases\n",
    "\n",
    "    # Fully connected layer. Note that the '+' operation automatically\n",
    "    # broadcasts the biases.\n",
    "    #hidden = tf.nn.relu(tf.matmul(reshape, fc1_weights) + fc1_biases)\n",
    "\n",
    "    # Add a 50% dropout during training only. Dropout also scales\n",
    "    # activations such that no rescaling is needed at evaluation time.\n",
    "    #if train:\n",
    "    #    hidden = tf.nn.dropout(hidden, 0.5, seed=SEED)\n",
    "    #return tf.matmul(hidden, fc2_weights) + fc2_biases\n",
    "\n",
    "print('Done')"
   ]
  },
  {
   "cell_type": "code",
   "execution_count": 61,
   "metadata": {
    "ExecuteTime": {
     "end_time": "2016-09-16T14:49:29.058141",
     "start_time": "2016-09-16T14:49:28.836169"
    },
    "cellView": "both",
    "colab": {
     "autoexec": {
      "startup": false,
      "wait_interval": 0
     },
     "output_extras": [
      {
       "item_id": 1
      }
     ]
    },
    "colab_type": "code",
    "collapsed": false,
    "executionInfo": {
     "elapsed": 269,
     "status": "ok",
     "timestamp": 1446749139596,
     "user": {
      "color": "#1FA15D",
      "displayName": "Michael Piatek",
      "isAnonymous": false,
      "isMe": true,
      "permissionId": "00327059602783983041",
      "photoUrl": "//lh6.googleusercontent.com/-wKJwK_OPl34/AAAAAAAAAAI/AAAAAAAAAlk/Rh3u6O2Z7ns/s50-c-k-no/photo.jpg",
      "sessionId": "716a6ad5e180d821",
      "userId": "106975671469698476657"
     },
     "user_tz": 480
    },
    "id": "9pR1EBNT3sCv",
    "outputId": "570681b1-f33e-4618-b742-48e12aa58132"
   },
   "outputs": [
    {
     "name": "stdout",
     "output_type": "stream",
     "text": [
      "Done\n"
     ]
    }
   ],
   "source": [
    "# Training computation: logits + cross-entropy loss.\n",
    "logits = model(train_data_node, True)\n",
    "loss = tf.reduce_mean(tf.nn.softmax_cross_entropy_with_logits(\n",
    "  logits, train_labels_node))\n",
    "\n",
    "# L2 regularization for the fully connected parameters.\n",
    "#regularizers = (tf.nn.l2_loss(fc1_weights) + tf.nn.l2_loss(fc1_biases) +\n",
    "#                tf.nn.l2_loss(fc2_weights) + tf.nn.l2_loss(fc2_biases))\n",
    "regularizers = (tf.nn.l2_loss(fc_weights) + tf.nn.l2_loss(fc_biases))\n",
    "# Add the regularization term to the loss.\n",
    "loss += 5e-4 * regularizers\n",
    "\n",
    "# Optimizer: set up a variable that's incremented once per batch and\n",
    "# controls the learning rate decay.\n",
    "batch = tf.Variable(0)\n",
    "# Decay once per epoch, using an exponential schedule starting at 0.01.\n",
    "learning_rate = tf.train.exponential_decay(\n",
    "  0.01,                # Base learning rate.\n",
    "  batch * BATCH_SIZE,  # Current index into the dataset.\n",
    "  train_size,          # Decay step.\n",
    "  0.95,                # Decay rate.\n",
    "  staircase=True)\n",
    "# Use simple momentum for the optimization.\n",
    "optimizer = tf.train.MomentumOptimizer(learning_rate,\n",
    "                                       0.9).minimize(loss,\n",
    "                                                     global_step=batch)\n",
    "\n",
    "# Predictions for the minibatch, validation set and test set.\n",
    "train_prediction = tf.nn.softmax(logits)\n",
    "# We'll compute them only once in a while by calling their {eval()} method.\n",
    "#validation_prediction = tf.nn.softmax(model(validation_data_node))\n",
    "test_prediction = tf.nn.softmax(model(test_data_node))\n",
    "\n",
    "print('Done')"
   ]
  },
  {
   "cell_type": "code",
   "execution_count": 62,
   "metadata": {
    "ExecuteTime": {
     "end_time": "2016-09-16T14:49:29.357483",
     "start_time": "2016-09-16T14:49:29.059952"
    },
    "cellView": "both",
    "colab": {
     "autoexec": {
      "startup": false,
      "wait_interval": 0
     }
    },
    "colab_type": "code",
    "collapsed": true,
    "id": "z6Kc5iql6qxV"
   },
   "outputs": [],
   "source": [
    "# Create a new interactive session that we'll use in\n",
    "# subsequent code cells.\n",
    "s = tf.InteractiveSession()\n",
    "\n",
    "# Use our newly created session as the default for \n",
    "# subsequent operations.\n",
    "s.as_default()\n",
    "\n",
    "# Initialize all the variables we defined above.\n",
    "tf.initialize_all_variables().run()"
   ]
  },
  {
   "cell_type": "code",
   "execution_count": 63,
   "metadata": {
    "ExecuteTime": {
     "end_time": "2016-09-16T14:49:29.584699",
     "start_time": "2016-09-16T14:49:29.359107"
    },
    "cellView": "both",
    "colab": {
     "autoexec": {
      "startup": false,
      "wait_interval": 0
     },
     "output_extras": [
      {
       "item_id": 1
      }
     ]
    },
    "colab_type": "code",
    "collapsed": false,
    "executionInfo": {
     "elapsed": 386,
     "status": "ok",
     "timestamp": 1446749389138,
     "user": {
      "color": "#1FA15D",
      "displayName": "Michael Piatek",
      "isAnonymous": false,
      "isMe": true,
      "permissionId": "00327059602783983041",
      "photoUrl": "//lh6.googleusercontent.com/-wKJwK_OPl34/AAAAAAAAAAI/AAAAAAAAAlk/Rh3u6O2Z7ns/s50-c-k-no/photo.jpg",
      "sessionId": "716a6ad5e180d821",
      "userId": "106975671469698476657"
     },
     "user_tz": 480
    },
    "id": "LYVxeEox71Pg",
    "outputId": "9184b5df-009a-4b1b-e312-5be94351351f"
   },
   "outputs": [
    {
     "name": "stdout",
     "output_type": "stream",
     "text": [
      "Done\n"
     ]
    }
   ],
   "source": [
    "#BATCH_SIZE = 60\n",
    "\n",
    "# Grab the first BATCH_SIZE examples and labels.\n",
    "batch_data = train_data[:BATCH_SIZE, :, :, :]\n",
    "batch_labels = train_labels[:BATCH_SIZE]\n",
    "\n",
    "# This dictionary maps the batch data (as a numpy array) to the\n",
    "# node in the graph it should be fed to.\n",
    "feed_dict = {train_data_node: batch_data,\n",
    "             train_labels_node: batch_labels}\n",
    "\n",
    "# Run the graph and fetch some of the nodes.\n",
    "_, l, lr, predictions = s.run(\n",
    "  [optimizer, loss, learning_rate, train_prediction],\n",
    "  feed_dict=feed_dict)\n",
    "\n",
    "print('Done')"
   ]
  },
  {
   "cell_type": "code",
   "execution_count": 64,
   "metadata": {
    "ExecuteTime": {
     "end_time": "2016-09-16T14:49:29.857607",
     "start_time": "2016-09-16T14:49:29.843904"
    },
    "cellView": "both",
    "colab": {
     "autoexec": {
      "startup": false,
      "wait_interval": 0
     },
     "output_extras": [
      {
       "item_id": 1
      }
     ]
    },
    "colab_type": "code",
    "collapsed": false,
    "executionInfo": {
     "elapsed": 178,
     "status": "ok",
     "timestamp": 1446751995007,
     "user": {
      "color": "#1FA15D",
      "displayName": "Michael Piatek",
      "isAnonymous": false,
      "isMe": true,
      "permissionId": "00327059602783983041",
      "photoUrl": "//lh6.googleusercontent.com/-wKJwK_OPl34/AAAAAAAAAAI/AAAAAAAAAlk/Rh3u6O2Z7ns/s50-c-k-no/photo.jpg",
      "sessionId": "716a6ad5e180d821",
      "userId": "106975671469698476657"
     },
     "user_tz": 480
    },
    "id": "DPJie7bPDaLa",
    "outputId": "a06c64ed-f95f-416f-a621-44cccdaba0f8"
   },
   "outputs": [
    {
     "name": "stdout",
     "output_type": "stream",
     "text": [
      "Done\n"
     ]
    }
   ],
   "source": [
    "def error_rate(predictions, labels):\n",
    "    \"\"\"Return the error rate and confusions.\"\"\"\n",
    "    correct = numpy.sum(numpy.argmax(predictions, 1) == numpy.argmax(labels, 1))\n",
    "    total = predictions.shape[0]\n",
    "\n",
    "    error = 100.0 - (100 * float(correct) / float(total))\n",
    "\n",
    "    confusions = numpy.zeros([10, 10], numpy.float32)\n",
    "    bundled = zip(numpy.argmax(predictions, 1), numpy.argmax(labels, 1))\n",
    "    for predicted, actual in bundled:\n",
    "        confusions[predicted, actual] += 1\n",
    "    \n",
    "    return error, confusions\n",
    "\n",
    "print('Done')"
   ]
  },
  {
   "cell_type": "code",
   "execution_count": 65,
   "metadata": {
    "ExecuteTime": {
     "end_time": "2016-09-16T14:53:26.998313",
     "start_time": "2016-09-16T14:49:29.860079"
    },
    "cellView": "both",
    "colab": {
     "autoexec": {
      "startup": false,
      "wait_interval": 0
     }
    },
    "colab_type": "code",
    "collapsed": false,
    "id": "4cgKJrS1_vej"
   },
   "outputs": [
    {
     "name": "stdout",
     "output_type": "stream",
     "text": [
      "Step 0 of 50\n",
      "Mini-batch loss: 5.95364 Error: 30.00000 Learning rate: 0.01000\n",
      "Step 0 of 50\n",
      "Mini-batch loss: 0.65165 Error: 30.00000 Learning rate: 0.00950\n",
      "Step 0 of 50\n",
      "Mini-batch loss: 0.59192 Error: 30.00000 Learning rate: 0.00902\n",
      "Step 0 of 50\n",
      "Mini-batch loss: 0.57816 Error: 20.00000 Learning rate: 0.00857\n",
      "Step 0 of 50\n",
      "Mini-batch loss: 0.38540 Error: 10.00000 Learning rate: 0.00815\n",
      "Step 0 of 50\n",
      "Mini-batch loss: 0.40465 Error: 10.00000 Learning rate: 0.00774\n",
      "Step 0 of 50\n",
      "Mini-batch loss: 0.38453 Error: 20.00000 Learning rate: 0.00735\n",
      "Step 0 of 50\n",
      "Mini-batch loss: 0.36566 Error: 10.00000 Learning rate: 0.00698\n",
      "Step 0 of 50\n",
      "Mini-batch loss: 0.21965 Error: 0.00000 Learning rate: 0.00663\n",
      "Step 0 of 50\n",
      "Mini-batch loss: 0.15816 Error: 0.00000 Learning rate: 0.00630\n",
      "Step 0 of 50\n",
      "Mini-batch loss: 0.05291 Error: 0.00000 Learning rate: 0.00599\n",
      "Step 0 of 50\n",
      "Mini-batch loss: 0.05349 Error: 0.00000 Learning rate: 0.00569\n",
      "Step 0 of 50\n",
      "Mini-batch loss: 0.01658 Error: 0.00000 Learning rate: 0.00540\n",
      "Step 0 of 50\n",
      "Mini-batch loss: 0.01150 Error: 0.00000 Learning rate: 0.00513\n",
      "Step 0 of 50\n",
      "Mini-batch loss: 0.01486 Error: 0.00000 Learning rate: 0.00488\n",
      "Step 0 of 50\n",
      "Mini-batch loss: 0.02922 Error: 0.00000 Learning rate: 0.00463\n",
      "Step 0 of 50\n",
      "Mini-batch loss: 0.00780 Error: 0.00000 Learning rate: 0.00440\n",
      "Step 0 of 50\n",
      "Mini-batch loss: 0.00861 Error: 0.00000 Learning rate: 0.00418\n",
      "Step 0 of 50\n",
      "Mini-batch loss: 0.00929 Error: 0.00000 Learning rate: 0.00397\n",
      "Step 0 of 50\n",
      "Mini-batch loss: 0.00602 Error: 0.00000 Learning rate: 0.00377\n",
      "Step 0 of 50\n",
      "Mini-batch loss: 0.00603 Error: 0.00000 Learning rate: 0.00358\n",
      "Step 0 of 50\n",
      "Mini-batch loss: 0.00586 Error: 0.00000 Learning rate: 0.00341\n",
      "Step 0 of 50\n",
      "Mini-batch loss: 0.00577 Error: 0.00000 Learning rate: 0.00324\n",
      "Step 0 of 50\n",
      "Mini-batch loss: 0.00573 Error: 0.00000 Learning rate: 0.00307\n",
      "Step 0 of 50\n",
      "Mini-batch loss: 0.00570 Error: 0.00000 Learning rate: 0.00292\n",
      "Step 0 of 50\n",
      "Mini-batch loss: 0.00568 Error: 0.00000 Learning rate: 0.00277\n",
      "Step 0 of 50\n",
      "Mini-batch loss: 0.00566 Error: 0.00000 Learning rate: 0.00264\n",
      "Step 0 of 50\n",
      "Mini-batch loss: 0.00564 Error: 0.00000 Learning rate: 0.00250\n",
      "Step 0 of 50\n",
      "Mini-batch loss: 0.00563 Error: 0.00000 Learning rate: 0.00238\n",
      "Step 0 of 50\n",
      "Mini-batch loss: 0.00562 Error: 0.00000 Learning rate: 0.00226\n",
      "Step 0 of 50\n",
      "Mini-batch loss: 0.00561 Error: 0.00000 Learning rate: 0.00215\n",
      "Step 0 of 50\n",
      "Mini-batch loss: 0.00560 Error: 0.00000 Learning rate: 0.00204\n",
      "Step 0 of 50\n",
      "Mini-batch loss: 0.00559 Error: 0.00000 Learning rate: 0.00194\n",
      "Step 0 of 50\n",
      "Mini-batch loss: 0.00558 Error: 0.00000 Learning rate: 0.00184\n",
      "Step 0 of 50\n",
      "Mini-batch loss: 0.00557 Error: 0.00000 Learning rate: 0.00175\n",
      "Step 0 of 50\n",
      "Mini-batch loss: 0.00556 Error: 0.00000 Learning rate: 0.00166\n",
      "Step 0 of 50\n",
      "Mini-batch loss: 0.00556 Error: 0.00000 Learning rate: 0.00158\n",
      "Step 0 of 50\n",
      "Mini-batch loss: 0.00555 Error: 0.00000 Learning rate: 0.00150\n",
      "Step 0 of 50\n",
      "Mini-batch loss: 0.00555 Error: 0.00000 Learning rate: 0.00142\n",
      "Step 0 of 50\n",
      "Mini-batch loss: 0.00554 Error: 0.00000 Learning rate: 0.00135\n",
      "Step 0 of 50\n",
      "Mini-batch loss: 0.00554 Error: 0.00000 Learning rate: 0.00129\n",
      "Step 0 of 50\n",
      "Mini-batch loss: 0.00553 Error: 0.00000 Learning rate: 0.00122\n",
      "Step 0 of 50\n",
      "Mini-batch loss: 0.00553 Error: 0.00000 Learning rate: 0.00116\n",
      "Step 0 of 50\n",
      "Mini-batch loss: 0.00552 Error: 0.00000 Learning rate: 0.00110\n",
      "Step 0 of 50\n",
      "Mini-batch loss: 0.00552 Error: 0.00000 Learning rate: 0.00105\n",
      "Step 0 of 50\n",
      "Mini-batch loss: 0.00552 Error: 0.00000 Learning rate: 0.00099\n",
      "Step 0 of 50\n",
      "Mini-batch loss: 0.00551 Error: 0.00000 Learning rate: 0.00094\n",
      "Step 0 of 50\n",
      "Mini-batch loss: 0.00551 Error: 0.00000 Learning rate: 0.00090\n",
      "Step 0 of 50\n",
      "Mini-batch loss: 0.00551 Error: 0.00000 Learning rate: 0.00085\n",
      "Step 0 of 50\n",
      "Mini-batch loss: 0.00550 Error: 0.00000 Learning rate: 0.00081\n"
     ]
    }
   ],
   "source": [
    "# Train over the first 1/4th of our training set.\n",
    "steps = train_size // BATCH_SIZE\n",
    "for k in range(50):\n",
    "    for step in range(steps):\n",
    "        # Compute the offset of the current minibatch in the data.\n",
    "        # Note that we could use better randomization across epochs.\n",
    "        offset = (step * BATCH_SIZE) % (train_size - BATCH_SIZE)\n",
    "        batch_data = train_data[offset:(offset + BATCH_SIZE), :, :, :]\n",
    "        batch_labels = train_labels[offset:(offset + BATCH_SIZE)]\n",
    "        # This dictionary maps the batch data (as a numpy array) to the\n",
    "        # node in the graph it should be fed to.\n",
    "        feed_dict = {train_data_node: batch_data,\n",
    "                     train_labels_node: batch_labels}\n",
    "        # Run the graph and fetch some of the nodes.\n",
    "        _, l, lr, predictions = s.run(\n",
    "          [optimizer, loss, learning_rate, train_prediction],\n",
    "          feed_dict=feed_dict)\n",
    "\n",
    "        # Print out the loss periodically.\n",
    "        if step % 100 == 0:\n",
    "            error, _ = error_rate(predictions, batch_labels)\n",
    "            print('Step %d of %d' % (step, steps))\n",
    "            print('Mini-batch loss: %.5f Error: %.5f Learning rate: %.5f' % (l, error, lr))\n",
    "            #print('Validation error: %.1f%%' % error_rate(\n",
    "            #      validation_prediction.eval(), validation_labels)[0])\n"
   ]
  },
  {
   "cell_type": "code",
   "execution_count": 68,
   "metadata": {
    "ExecuteTime": {
     "end_time": "2016-09-16T14:55:10.942063",
     "start_time": "2016-09-16T14:53:26.999971"
    },
    "cellView": "both",
    "colab": {
     "autoexec": {
      "startup": false,
      "wait_interval": 0
     },
     "output_extras": [
      {
       "item_id": 1
      },
      {
       "item_id": 2
      }
     ]
    },
    "colab_type": "code",
    "collapsed": false,
    "executionInfo": {
     "elapsed": 436,
     "status": "ok",
     "timestamp": 1446752934104,
     "user": {
      "color": "#1FA15D",
      "displayName": "Michael Piatek",
      "isAnonymous": false,
      "isMe": true,
      "permissionId": "00327059602783983041",
      "photoUrl": "//lh6.googleusercontent.com/-wKJwK_OPl34/AAAAAAAAAAI/AAAAAAAAAlk/Rh3u6O2Z7ns/s50-c-k-no/photo.jpg",
      "sessionId": "716a6ad5e180d821",
      "userId": "106975671469698476657"
     },
     "user_tz": 480
    },
    "id": "6Yh1jGFuIKc_",
    "outputId": "4e411de4-0fe2-451b-e4ca-8a4854f0db89",
    "scrolled": true
   },
   "outputs": [
    {
     "name": "stdout",
     "output_type": "stream",
     "text": [
      "Test error: 10.1%\n"
     ]
    },
    {
     "data": {
      "image/png": "[encoded data removed]",
      "text/plain": [
       "<matplotlib.figure.Figure at 0x7fbcacbf0390>"
      ]
     },
     "metadata": {},
     "output_type": "display_data"
    }
   ],
   "source": [
    "test_error, confusions = error_rate(test_prediction.eval(), test_labels)\n",
    "print('Test error: %.1f%%' % test_error)\n",
    "\n",
    "plt.xlabel('Actual')\n",
    "plt.ylabel('Predicted')\n",
    "plt.grid(False)\n",
    "plt.xticks(numpy.arange(NUM_LABELS))\n",
    "plt.yticks(numpy.arange(NUM_LABELS))\n",
    "plt.imshow(confusions, cmap=plt.cm.jet, interpolation='nearest');\n",
    "\n",
    "plt.xlim([-0.5, 1.5])\n",
    "plt.ylim([1.5, -0.5])\n",
    "\n",
    "for i, cas in enumerate(confusions):\n",
    "    for j, count in enumerate(cas):\n",
    "        if count > 0:\n",
    "            xoff = .07 * len(str(count))\n",
    "            plt.text(j-xoff, i+.2, int(count), fontsize=48, color='white')"
   ]
  },
  {
   "cell_type": "code",
   "execution_count": 69,
   "metadata": {
    "ExecuteTime": {
     "end_time": "2016-09-16T14:55:18.083458",
     "start_time": "2016-09-16T14:55:17.830485"
    },
    "cellView": "both",
    "colab": {
     "autoexec": {
      "startup": false,
      "wait_interval": 0
     },
     "output_extras": [
      {
       "item_id": 1
      }
     ]
    },
    "colab_type": "code",
    "collapsed": false,
    "executionInfo": {
     "elapsed": 352,
     "status": "ok",
     "timestamp": 1446753006584,
     "user": {
      "color": "#1FA15D",
      "displayName": "Michael Piatek",
      "isAnonymous": false,
      "isMe": true,
      "permissionId": "00327059602783983041",
      "photoUrl": "//lh6.googleusercontent.com/-wKJwK_OPl34/AAAAAAAAAAI/AAAAAAAAAlk/Rh3u6O2Z7ns/s50-c-k-no/photo.jpg",
      "sessionId": "716a6ad5e180d821",
      "userId": "106975671469698476657"
     },
     "user_tz": 480
    },
    "id": "x5KOv1AJMgzV",
    "outputId": "2acdf737-bab6-408f-8b3c-05fa66d04fe6"
   },
   "outputs": [
    {
     "data": {
      "image/png": "[encoded data removed]",
      "text/plain": [
       "<matplotlib.figure.Figure at 0x7fbcacafd3d0>"
      ]
     },
     "metadata": {},
     "output_type": "display_data"
    }
   ],
   "source": [
    "plt.xticks(numpy.arange(NUM_LABELS))\n",
    "plt.xlim([0, 1])\n",
    "plt.hist(numpy.argmax(test_labels, 1));"
   ]
  },
  {
   "cell_type": "code",
   "execution_count": null,
   "metadata": {
    "collapsed": true
   },
   "outputs": [],
   "source": []
  }
 ],
 "metadata": {
  "anaconda-cloud": {},
  "colab": {
   "default_view": {},
   "name": "Untitled",
   "provenance": [],
   "version": "0.3.2",
   "views": {}
  },
  "kernelspec": {
   "display_name": "Python 3",
   "language": "python",
   "name": "python3"
  },
  "language_info": {
   "codemirror_mode": {
    "name": "ipython",
    "version": 3
   },
   "file_extension": ".py",
   "mimetype": "text/x-python",
   "name": "python",
   "nbconvert_exporter": "python",
   "pygments_lexer": "ipython3",
   "version": "3.5.2"
  }
 },
 "nbformat": 4,
 "nbformat_minor": 0
}
